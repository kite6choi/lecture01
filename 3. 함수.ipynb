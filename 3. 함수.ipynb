{
 "cells": [
  {
   "cell_type": "markdown",
   "metadata": {
    "school_cell_uuid": "fa686eec1a894ad385be2fffde92ef7a"
   },
   "source": [
    "# 파이썬 함수  \n",
    "- built-in functon  \n",
    "- user-defined function"
   ]
  },
  {
   "cell_type": "markdown",
   "metadata": {},
   "source": [
    "## Built-in function"
   ]
  },
  {
   "cell_type": "code",
   "execution_count": null,
   "metadata": {},
   "outputs": [],
   "source": [
    "abs(-10)"
   ]
  },
  {
   "cell_type": "code",
   "execution_count": null,
   "metadata": {},
   "outputs": [],
   "source": [
    "min([20,10,30])"
   ]
  },
  {
   "cell_type": "markdown",
   "metadata": {},
   "source": [
    "## User-defined function"
   ]
  },
  {
   "cell_type": "markdown",
   "metadata": {
    "school_cell_uuid": "f49603cc23474f8689a409a2f09463f8"
   },
   "source": [
    "`def` 키워드를 사용하여 함수 생성\n",
    "\n",
    "\n",
    "```python\n",
    "def 함수이름(입력변수이름):\n",
    "   출력변수를 만드는 명령\n",
    "   return 출력변수이름\n",
    "   \n",
    "```"
   ]
  },
  {
   "cell_type": "markdown",
   "metadata": {
    "school_cell_uuid": "6ad5d5067fb64e10aa55ebc0ba4156c8"
   },
   "source": [
    "숫자 x를 입력하면 두 배가 되도록 하는 함수"
   ]
  },
  {
   "cell_type": "code",
   "execution_count": null,
   "metadata": {
    "school_cell_uuid": "33da0cf9c0ba469a8259f6292e35ed8b"
   },
   "outputs": [],
   "source": [
    "def twotimes(x):\n",
    "    y = 2 * x\n",
    "    return y"
   ]
  },
  {
   "cell_type": "markdown",
   "metadata": {
    "school_cell_uuid": "a2c4f5ae32d0466a9743a8f4c41989b3"
   },
   "source": [
    "함수 사용"
   ]
  },
  {
   "cell_type": "code",
   "execution_count": null,
   "metadata": {
    "school_cell_uuid": "7ee2500e23db453b8a22136fb5edf628"
   },
   "outputs": [],
   "source": [
    "twotimes(2)"
   ]
  },
  {
   "cell_type": "code",
   "execution_count": null,
   "metadata": {
    "school_cell_uuid": "d32cb2b891584430b49d8da8c9f31f00"
   },
   "outputs": [],
   "source": [
    "twotimes(10)"
   ]
  },
  {
   "cell_type": "markdown",
   "metadata": {
    "school_cell_uuid": "e549eeedec2547e782ec484b508855da"
   },
   "source": [
    "## 입력이 여러 개인 함수"
   ]
  },
  {
   "cell_type": "markdown",
   "metadata": {
    "school_cell_uuid": "13b44269a39744e9a43393e1aff63e6b"
   },
   "source": [
    "```python\n",
    "def 함수이름(입력변수1, 입력변수2, 입력변수3):\n",
    "   출력변수를 만드는 명령\n",
    "   return 출력변수이름\n",
    "```"
   ]
  },
  {
   "cell_type": "code",
   "execution_count": null,
   "metadata": {
    "school_cell_uuid": "42c845dfff8941aebe90f6f206c283cc"
   },
   "outputs": [],
   "source": [
    "def add(x, y):\n",
    "    return x + y"
   ]
  },
  {
   "cell_type": "code",
   "execution_count": null,
   "metadata": {
    "school_cell_uuid": "16ff374bf9a94520bed4218c6b27a4b7"
   },
   "outputs": [],
   "source": [
    "add(1, 2)"
   ]
  },
  {
   "cell_type": "code",
   "execution_count": null,
   "metadata": {
    "school_cell_uuid": "f057db3e43ad45f9967037dcd4d888b0"
   },
   "outputs": [],
   "source": [
    "def sum(a, b, c):\n",
    "    s = a + b + c\n",
    "    return s"
   ]
  },
  {
   "cell_type": "code",
   "execution_count": null,
   "metadata": {
    "school_cell_uuid": "b4bb5b23dcd246baa29eb5eac504de5e"
   },
   "outputs": [],
   "source": [
    "sum(1, 2, 3)"
   ]
  },
  {
   "cell_type": "code",
   "execution_count": null,
   "metadata": {},
   "outputs": [],
   "source": []
  }
 ],
 "metadata": {
  "kernelspec": {
   "display_name": "Python 3",
   "language": "python",
   "name": "python3"
  },
  "language_info": {
   "codemirror_mode": {
    "name": "ipython",
    "version": 3
   },
   "file_extension": ".py",
   "mimetype": "text/x-python",
   "name": "python",
   "nbconvert_exporter": "python",
   "pygments_lexer": "ipython3",
   "version": "3.8.5"
  }
 },
 "nbformat": 4,
 "nbformat_minor": 1
}
